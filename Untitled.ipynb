{
  "nbformat": 4,
  "nbformat_minor": 0,
  "metadata": {
    "colab": {
      "name": "Untitled",
      "provenance": [],
      "authorship_tag": "ABX9TyO39mrvJz+nZsN88Gn8EJLv",
      "include_colab_link": true
    },
    "kernelspec": {
      "name": "python3",
      "display_name": "Python 3"
    },
    "language_info": {
      "name": "python"
    }
  },
  "cells": [
    {
      "cell_type": "markdown",
      "metadata": {
        "id": "view-in-github",
        "colab_type": "text"
      },
      "source": [
        "<a href=\"https://colab.research.google.com/github/Ccnick666/introduction-to-computer/blob/main/Untitled.ipynb\" target=\"_parent\"><img src=\"https://colab.research.google.com/assets/colab-badge.svg\" alt=\"Open In Colab\"/></a>"
      ]
    },
    {
      "cell_type": "code",
      "execution_count": 7,
      "metadata": {
        "colab": {
          "base_uri": "https://localhost:8080/"
        },
        "id": "TVUbw0JMn84Y",
        "outputId": "03abda96-7c53-4935-99c6-78cba7c81074"
      },
      "outputs": [
        {
          "output_type": "stream",
          "name": "stdout",
          "text": [
            "請輸入一個正整數10\n",
            "1到10的整數和為 55\n"
          ]
        }
      ],
      "source": [
        "test=int(input(\"請輸入一個正整數\"))\n",
        "sum=0\n",
        "for a in range(test+1):\n",
        "  sum=sum+a\n",
        "print(\"1到10的整數和為\",sum)"
      ]
    },
    {
      "cell_type": "code",
      "source": [
        "test=int(input(\"請輸入一個正整數\"))\n",
        "sum=0\n",
        "for a in range(test+1):\n",
        "  sum=sum+a\n",
        "print(\"1到50的整數和為\",sum)"
      ],
      "metadata": {
        "colab": {
          "base_uri": "https://localhost:8080/"
        },
        "id": "LG2emcOf_nA1",
        "outputId": "bab24a94-3a62-4858-dce6-25a3d322f79d"
      },
      "execution_count": 8,
      "outputs": [
        {
          "output_type": "stream",
          "name": "stdout",
          "text": [
            "請輸入一個正整數50\n",
            "1到50的整數和為 1275\n"
          ]
        }
      ]
    },
    {
      "cell_type": "code",
      "source": [
        "test=int(input(\"請輸入一個正整數\"))\n",
        "sum=0\n",
        "for a in range(test-8):\n",
        "  sum=sum+a\n",
        "print(\"1到1的整數和為\",sum)\n",
        "sum=0\n",
        "for a in range(test-7):\n",
        "  sum=sum+a\n",
        "print(\"1到2的整數和為\",sum)\n",
        "sum=0\n",
        "for a in range(test-6):\n",
        "  sum=sum+a\n",
        "print(\"1到3的整數和為\",sum)\n",
        "sum=0\n",
        "for a in range(test-5):\n",
        "  sum=sum+a\n",
        "print(\"1到4的整數和為\",sum)\n",
        "sum=0\n",
        "for a in range(test-4):\n",
        "  sum=sum+a\n",
        "print(\"1到5的整數和為\",sum)\n",
        "sum=0\n",
        "for a in range(test-3):\n",
        "  sum=sum+a\n",
        "print(\"1到6的整數和為\",sum)\n",
        "sum=0\n",
        "for a in range(test-2):\n",
        "  sum=sum+a\n",
        "print(\"1到7的整數和為\",sum)\n",
        "sum=0\n",
        "for a in range(test-1):\n",
        "  sum=sum+a\n",
        "print(\"1到8的整數和為\",sum)\n",
        "sum=0\n",
        "for a in range(test):\n",
        "  sum=sum+a\n",
        "print(\"1到9的整數和為\",sum)\n",
        "sum=0\n",
        "for a in range(test+1):\n",
        "  sum=sum+a\n",
        "print(\"1到10的整數和為\",sum)"
      ],
      "metadata": {
        "colab": {
          "base_uri": "https://localhost:8080/"
        },
        "id": "mNpb17MXAsgS",
        "outputId": "d975db60-6314-4176-d249-7be6631eddb0"
      },
      "execution_count": 10,
      "outputs": [
        {
          "output_type": "stream",
          "name": "stdout",
          "text": [
            "請輸入一個正整數10\n",
            "1到1的整數和為 1\n",
            "1到2的整數和為 3\n",
            "1到3的整數和為 6\n",
            "1到4的整數和為 10\n",
            "1到5的整數和為 15\n",
            "1到6的整數和為 21\n",
            "1到7的整數和為 28\n",
            "1到8的整數和為 36\n",
            "1到9的整數和為 45\n",
            "1到10的整數和為 55\n"
          ]
        }
      ]
    },
    {
      "cell_type": "code",
      "source": [
        ""
      ],
      "metadata": {
        "id": "0Qi2KLX_B7q0"
      },
      "execution_count": null,
      "outputs": []
    }
  ]
}