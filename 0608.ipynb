{
  "nbformat": 4,
  "nbformat_minor": 0,
  "metadata": {
    "colab": {
      "name": "0608.ipynb",
      "provenance": [],
      "authorship_tag": "ABX9TyPN/XHtfAWPDQDR5VVH/YCK",
      "include_colab_link": true
    },
    "kernelspec": {
      "name": "python3",
      "display_name": "Python 3"
    },
    "language_info": {
      "name": "python"
    }
  },
  "cells": [
    {
      "cell_type": "markdown",
      "metadata": {
        "id": "view-in-github",
        "colab_type": "text"
      },
      "source": [
        "<a href=\"https://colab.research.google.com/github/Ccnick666/introduction-to-computer/blob/main/0608.ipynb\" target=\"_parent\"><img src=\"https://colab.research.google.com/assets/colab-badge.svg\" alt=\"Open In Colab\"/></a>"
      ]
    },
    {
      "cell_type": "code",
      "execution_count": 5,
      "metadata": {
        "colab": {
          "base_uri": "https://localhost:8080/"
        },
        "id": "huKuEqd06A5c",
        "outputId": "607db0ee-fc7a-455a-a45f-e6af7504d3f8"
      },
      "outputs": [
        {
          "output_type": "stream",
          "name": "stdout",
          "text": [
            "國文成績:85分\n",
            "\n",
            "數學成績:79分\n",
            "\n",
            "英文成績:93分\n",
            "\n"
          ]
        }
      ],
      "source": [
        "list1=['國文成績:85分','數學成績:79分','英文成績:93分']\n",
        "for s in list1:\n",
        "  print(s)\n",
        "  print()"
      ]
    },
    {
      "cell_type": "code",
      "source": [
        "list2=['編號1:姓名Tom:','編號2:姓名:Mary','編號3:姓名:Tony']\n",
        "for a in list2:\n",
        "  print(a)\n",
        "  print()"
      ],
      "metadata": {
        "colab": {
          "base_uri": "https://localhost:8080/"
        },
        "id": "obTs7wph9bS6",
        "outputId": "d5f2465b-e040-4c08-c0d2-99e28e52c8f8"
      },
      "execution_count": 8,
      "outputs": [
        {
          "output_type": "stream",
          "name": "stdout",
          "text": [
            "編號1:姓名Tom:\n",
            "\n",
            "編號2:姓名:Mary\n",
            "\n",
            "編號3:姓名:Tony\n",
            "\n"
          ]
        }
      ]
    },
    {
      "cell_type": "code",
      "source": [
        ""
      ],
      "metadata": {
        "id": "EnrIJdz9-Q3K"
      },
      "execution_count": null,
      "outputs": []
    }
  ]
}